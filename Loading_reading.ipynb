{
 "cells": [
  {
   "cell_type": "code",
   "execution_count": null,
   "id": "08f2046d-2b4f-4618-8e5a-32cd0481e5d9",
   "metadata": {},
   "outputs": [],
   "source": [
    "# This notebook: consists of acquiring data from server by months\n",
    "#                and exporting to separate .csv files..\n",
    "#                Contains functions for creating shifts and differences and basic control\n",
    "#                Contains basic controll functions for time interval consistency and invalid values counts   "
   ]
  },
  {
   "cell_type": "code",
   "execution_count": 1,
   "id": "b0f42666-6560-4c18-9dfc-2a92dbabc8e4",
   "metadata": {},
   "outputs": [],
   "source": [
    "#@title Imports\n",
    "import numpy as np\n",
    "import pandas as pd\n",
    "import seaborn as sns\n",
    "from pandas import Series, DataFrame\n",
    "import matplotlib.pyplot as plt\n",
    "from datetime import datetime\n",
    "import glob"
   ]
  },
  {
   "cell_type": "code",
   "execution_count": null,
   "id": "cbc13221-9511-4cce-9cf9-6b8e645fb7c0",
   "metadata": {},
   "outputs": [],
   "source": [
    "# If Python version is 3.9.13 you can use pyarrow\n",
    "# you can remove printing lines in order to make the code faster\n",
    "\n",
    "monthly_li =  [\"%02d\" % i for i in range(6,12)] #creates list of months in '01' format\n",
    "for mon in monthly_li:\n",
    "    print(f\"Filtering {mon}\")\n",
    "    t1 = datetime.now()\n",
    "    path = f\"/uufs/chpc.utah.edu/common/home/u0035056/uu2dvar/csv/2022{mon}*.csv\"\n",
    "    filenames = glob.glob(path)\n",
    "    df_month = pd.DataFrame()\n",
    "    for filename in filenames:\n",
    "        df= pd.read_csv(filename, delimiter=',',index_col=0,header=0,skiprows=[1])\n",
    "        df1 = df[(df.Latitude<41.34) & (df.Latitude > 40.17) & (df.Longitude < -111.346) & (df.Longitude > -112.678)]\n",
    "        df_month=pd.concat([df_month,df1])\n",
    "    t2 = datetime.now()\n",
    "    took = t2 - t1\n",
    "    print(f\"it took {took} seconds to parse {mon} month.\")\n",
    "    df_month.to_csv(f'./df_{mon}.csv')"
   ]
  },
  {
   "cell_type": "code",
   "execution_count": null,
   "id": "a4bbd83d-6e72-45f8-8467-00c817ce501e",
   "metadata": {},
   "outputs": [],
   "source": [
    "# Compiled into UDF within coordinates window\n",
    "\n",
    "def get_dat_for_coordinates(months_start,months_end,lat1 = 41.34,lat2 = 40.17 ,lon1 = -111.346,lon2 = -112.678):\n",
    "    outp_df = pd.DataFrame()\n",
    "\tmonthly_li =  [\"%02d\" % i for i in range(months_start,months_end+1)] # generates list of months in string format ’01’, ’02’…\n",
    "\tfor mon in monthly_li:\n",
    "    \t\tprint(f\"Filtering {mon}\")\n",
    "    \t\tt1 = datetime.now()\n",
    "    \t\tpath = f\"/uufs/chpc.utah.edu/common/home/u0035056/uu2dvar/csv/2022{mon}*.csv\"\n",
    "    \t\tfilenames = glob.glob(path)\n",
    "    \t\tdf_wbb_mon = pd.DataFrame()\n",
    "    \tfor filename in filenames:\n",
    "                df= pd.read_csv(filename, delimiter=',',index_col=0,header=0,skiprows=[1])\n",
    "        \t\tdf1 = df[(df.Latitude< lat1) & (df.Latitude > lat2) & (df.Longitude < lon1) & (df.Longitude > lon2)]\n",
    "        \t\tdf_wbb_mon=pd.concat([df_wbb_mon,df1])\n",
    "    \tt2 = datetime.now()\n",
    "    \ttook = t2 - t1\n",
    "    \tprint(f\"it took {took} seconds to parse {mon} month.\")\n",
    "    \tdf_wbb_mon.to_csv(f'./df_{mon}.csv')\n",
    "        outp_df=pd.concat([outp_df,df_wbb_mon])\n",
    "return outp_df"
   ]
  },
  {
   "cell_type": "code",
   "execution_count": null,
   "id": "52c97f8a-6592-4335-b6ff-52c09438533b",
   "metadata": {},
   "outputs": [],
   "source": [
    "# Read data for one station only from 2022\n",
    "\n",
    "filenames = glob.glob(\"/uufs/chpc.utah.edu/common/home/u0035056/uu2dvar/csv/2022*.csv\")\n",
    "df_wbb = pd.DataFrame()\n",
    "for filename in filenames:\n",
    "    df= pd.read_csv(filename, delimiter=',',index_col=0,header=0,skiprows=[1])\n",
    "    df1 = df[df.Station=='WBB']\n",
    "    df_wbb=pd.concat([df_wbb,df1])"
   ]
  },
  {
   "cell_type": "code",
   "execution_count": null,
   "id": "8347f92e-de5b-45d9-9c4d-fb96950cfd03",
   "metadata": {},
   "outputs": [],
   "source": [
    "# Functions creating differences between rows in  periods defined by user\n",
    "# Call them after data cleaning - differences could be 0 otherwise and it could bias dataset\n",
    "\n",
    "import warnings\n",
    "warnings.filterwarnings(\"ignore\")\n",
    "\n",
    "def create_shifts(df,periods,column_name_li):\n",
    "  #Creates shifts in periods for dataframe and names i.e. what is value in previous one or two terms?\n",
    "    for name_li in column_name_li:\n",
    "        df[str(name_li) + \"sh_\" + str(periods)] = df[name_li].shift(periods = periods)\n",
    "    return df\n",
    "\n",
    "def create_differences(df,periods,column_name_li):\n",
    "    # Yields a lot of warnings - figure it out\n",
    "    for name_li in column_name_li:\n",
    "        df[str(name_li) + \"dif_\" + str(periods)] = df[name_li].diff(periods = periods)\n",
    "    return df"
   ]
  },
  {
   "cell_type": "code",
   "execution_count": 3,
   "id": "bbca64b7-7883-4bb4-a4c8-076a68728732",
   "metadata": {},
   "outputs": [],
   "source": [
    "# these list concatenations create lists of features that could be interesting\n",
    "# in the last line, you can slice your dataset by desired series\n",
    "\n",
    "feat_li = ['yo_', 'd_', 'xb_', 'xa_', 'stdev_']\n",
    "feat2_li = ['t','td','u','v','ws','rh'] \n",
    "\n",
    "#df_wbb2 = df_wbb2.loc[df_wbb2[tes_val] != -9999]\n",
    "\n",
    "nw_li = [st+ap for ap in feat2_li for st in feat_li ]\n",
    "feat_to_plot = [('d_'+str(j)) for j in ['t','td','u','v','ws','rh']]\n",
    "#df1 = df_wbb2[feat_to_plot]"
   ]
  },
  {
   "cell_type": "code",
   "execution_count": null,
   "id": "4ac2437b-94f2-449b-b6f2-129dc28e6fcd",
   "metadata": {},
   "outputs": [],
   "source": [
    "# Data control and time intervall\n",
    "# Two phase funciton for dropping values of -9999 and those \n",
    "# where interval is bigger than usual (majority of measurements)"
   ]
  },
  {
   "cell_type": "code",
   "execution_count": 58,
   "id": "508a5d9c-17b0-44ea-8187-73ce7f005069",
   "metadata": {},
   "outputs": [
    {
     "name": "stdout",
     "output_type": "stream",
     "text": [
      "Station COOPHOLU1 yielded error.\n"
     ]
    }
   ],
   "source": [
    "# control dates and measurement intervals\n",
    "# returns dataframe with station, percentage of diferent measurement intervals \n",
    "# and number of consistent measurement times\n",
    "\n",
    "def inspect_time_regularity(df)\n",
    "    import warnings\n",
    "    warnings.filterwarnings(\"ignore\")\n",
    "\n",
    "    stations, percentage, consistent = [],[],[] # three metrics of measurement periodicity\n",
    "    for stat in df['Station'].unique():\n",
    "        subset = df.loc[df['Station'] == stat]\n",
    "        time_ser = df['(Index) -> Time']\n",
    "        subset['Time'] = subset['(Index) -> Time'].apply(lambda x: datetime.strptime(x,\"%Y-%m-%d %H:%M %Z\") )\n",
    "        #df['Time_diff'] = pd.to_timedelta(time_ser.astype(str)).diff(1).dt.total_seconds().div(60)\n",
    "        subset['datetime_d'] = subset['Time'].diff(1).astype('timedelta64[h]')\n",
    "        count = len(subset['datetime_d'].value_counts()) # number of unique values in difference\n",
    "        try:\n",
    "            a = list(subset['datetime_d'].value_counts())\n",
    "            a_m, a_s = max(a), sum(a)\n",
    "            perc = (a_s - a_m)/a_s\n",
    "            print(f'Station {stat} contains {perc} fraction of irregular measurement times.')\n",
    "        \n",
    "        except ValueError:\n",
    "            print(f'Station {stat} yielded error.')\n",
    "            perc = 100\n",
    "            a_m = 0\n",
    "        stations.append(stat)\n",
    "        percentage.append(perc)\n",
    "        consistent.append(a_m)\n",
    "\n",
    "    freq_df = pd.DataFrame()\n",
    "    freq_df['Station'] = stations # station name\n",
    "    freq_df['Percantatge'] = percentage # % of irregular measurements - different that majority\n",
    "    freq_df['Consistent'] = consistent # no. of majority intervals\n",
    "    return freq_df"
   ]
  },
  {
   "cell_type": "code",
   "execution_count": 73,
   "id": "d46042d6-26e1-4269-812d-8c14b6338891",
   "metadata": {},
   "outputs": [
    {
     "data": {
      "text/html": [
       "<div>\n",
       "<style scoped>\n",
       "    .dataframe tbody tr th:only-of-type {\n",
       "        vertical-align: middle;\n",
       "    }\n",
       "\n",
       "    .dataframe tbody tr th {\n",
       "        vertical-align: top;\n",
       "    }\n",
       "\n",
       "    .dataframe thead th {\n",
       "        text-align: right;\n",
       "    }\n",
       "</style>\n",
       "<table border=\"1\" class=\"dataframe\">\n",
       "  <thead>\n",
       "    <tr style=\"text-align: right;\">\n",
       "      <th></th>\n",
       "      <th>Stations</th>\n",
       "      <th>NaNs_d_ws</th>\n",
       "      <th>Nin_d_ws</th>\n",
       "    </tr>\n",
       "  </thead>\n",
       "  <tbody>\n",
       "    <tr>\n",
       "      <th>0</th>\n",
       "      <td>WBB</td>\n",
       "      <td>0</td>\n",
       "      <td>0</td>\n",
       "    </tr>\n",
       "    <tr>\n",
       "      <th>1</th>\n",
       "      <td>HOL</td>\n",
       "      <td>0</td>\n",
       "      <td>0</td>\n",
       "    </tr>\n",
       "    <tr>\n",
       "      <th>2</th>\n",
       "      <td>SNI</td>\n",
       "      <td>0</td>\n",
       "      <td>671</td>\n",
       "    </tr>\n",
       "    <tr>\n",
       "      <th>3</th>\n",
       "      <td>SBE</td>\n",
       "      <td>0</td>\n",
       "      <td>3</td>\n",
       "    </tr>\n",
       "    <tr>\n",
       "      <th>4</th>\n",
       "      <td>SB2</td>\n",
       "      <td>0</td>\n",
       "      <td>4</td>\n",
       "    </tr>\n",
       "  </tbody>\n",
       "</table>\n",
       "</div>"
      ],
      "text/plain": [
       "  Stations  NaNs_d_ws  Nin_d_ws\n",
       "0      WBB          0         0\n",
       "1      HOL          0         0\n",
       "2      SNI          0       671\n",
       "3      SBE          0         3\n",
       "4      SB2          0         4"
      ]
     },
     "execution_count": 73,
     "metadata": {},
     "output_type": "execute_result"
    }
   ],
   "source": [
    "def inspect_column(df,col):\n",
    "    stations, nans, nines = [],[],[]\n",
    "    Navals_df = pd.DataFrame()\n",
    "    for stat in df['Station'].unique():\n",
    "        subset = df.loc[df['Station'] == stat]\n",
    "        count_na = subset['err_xa_ws'].isna().sum()\n",
    "        count_99 = subset.loc[subset[col] == -9999.0].shape[0]\n",
    "        stations.append(stat)\n",
    "        nans.append(count_na)\n",
    "        nines.append(count_99)\n",
    "    \n",
    "    Navals_df['Stations'] = stations # station name\n",
    "    Navals_df['NaNs_'+str(col)] = nans # % of irregular measurements - different that majority\n",
    "    Navals_df['Nin_'+str(col)] = nines # no. of majority intervals\n",
    "    return Navals_df\n",
    "\n",
    "u = inspect_column(df,'d_ws')"
   ]
  }
 ],
 "metadata": {
  "kernelspec": {
   "display_name": "Python 3 (ipykernel)",
   "language": "python",
   "name": "python3"
  },
  "language_info": {
   "codemirror_mode": {
    "name": "ipython",
    "version": 3
   },
   "file_extension": ".py",
   "mimetype": "text/x-python",
   "name": "python",
   "nbconvert_exporter": "python",
   "pygments_lexer": "ipython3",
   "version": "3.9.13"
  }
 },
 "nbformat": 4,
 "nbformat_minor": 5
}
